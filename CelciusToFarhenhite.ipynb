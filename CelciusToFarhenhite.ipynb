{
  "nbformat": 4,
  "nbformat_minor": 0,
  "metadata": {
    "colab": {
      "name": "CelciusToFarhenhite.ipynb",
      "version": "0.3.2",
      "provenance": [],
      "collapsed_sections": [],
      "include_colab_link": true
    },
    "kernelspec": {
      "name": "python3",
      "display_name": "Python 3"
    }
  },
  "cells": [
    {
      "cell_type": "markdown",
      "metadata": {
        "id": "view-in-github",
        "colab_type": "text"
      },
      "source": [
        "<a href=\"https://colab.research.google.com/github/arihantdaga/ATM90E36_Arduino/blob/master/CelciusToFarhenhite.ipynb\" target=\"_parent\"><img src=\"https://colab.research.google.com/assets/colab-badge.svg\" alt=\"Open In Colab\"/></a>"
      ]
    },
    {
      "metadata": {
        "id": "ibPySrM3qP-X",
        "colab_type": "text"
      },
      "cell_type": "markdown",
      "source": [
        "**Celcius to Farhenheight COnversion, If i dint know a formula**\n",
        "This is preety cool, i dont have to know any formula, Physicists, who once had to work a great deal of time to come up with special equations and constants dont have to do that any longer.. Well Maybe.. ;)\n",
        "Lets get started. "
      ]
    },
    {
      "metadata": {
        "id": "6R5ZRLJimAmE",
        "colab_type": "code",
        "colab": {}
      },
      "cell_type": "code",
      "source": [
        "import numpy as np\n",
        "import tensorflow as tf"
      ],
      "execution_count": 0,
      "outputs": []
    },
    {
      "metadata": {
        "id": "pFO6249hmcgY",
        "colab_type": "code",
        "colab": {}
      },
      "cell_type": "code",
      "source": [
        "tf.logging.set_verbosity(tf.logging.ERROR)"
      ],
      "execution_count": 0,
      "outputs": []
    },
    {
      "metadata": {
        "id": "gq7KYqskmc5A",
        "colab_type": "code",
        "colab": {}
      },
      "cell_type": "code",
      "source": [
        "celcius_q = np.array([-40, -20, -10, 0, 12, 19, 25, 32, 40, 49, 61, 80 ], dtype=float)\n",
        "fahrenheit_a = np.array([ -40, -4, 14, 32, 53.6, 66.2, 77, 89.6, 104, 120.2, 141.8, 176], dtype=float)\n",
        "# celcius_q = np.array([-40, -10, 0, 8, 15, 22, 38], dtype=float)\n",
        "# fahrenheit_a = np.array([-40, 14, 32, 46, 59, 72, 100], dtype= float)"
      ],
      "execution_count": 0,
      "outputs": []
    },
    {
      "metadata": {
        "id": "Lqtm0ZIdtF3_",
        "colab_type": "text"
      },
      "cell_type": "markdown",
      "source": [
        "**Model Definition**"
      ]
    },
    {
      "metadata": {
        "id": "METsAb3emELP",
        "colab_type": "code",
        "colab": {}
      },
      "cell_type": "code",
      "source": [
        "model = tf.keras.Sequential()\n",
        "l0 = tf.keras.layers.Dense(units = 1, input_shape=[1])\n",
        "model.add(l0)\n",
        "model.compile(loss=\"mean_squared_error\", optimizer=tf.keras.optimizers.Adam(0.1))"
      ],
      "execution_count": 0,
      "outputs": []
    },
    {
      "metadata": {
        "id": "oNYyhHycucHN",
        "colab_type": "text"
      },
      "cell_type": "markdown",
      "source": [
        "**Training**"
      ]
    },
    {
      "metadata": {
        "id": "NRNYmIndmIh6",
        "colab_type": "code",
        "colab": {
          "base_uri": "https://localhost:8080/",
          "height": 51
        },
        "outputId": "97d69736-de35-4d55-9f3b-282967f2d670"
      },
      "cell_type": "code",
      "source": [
        "print(\"Starting training the model\")\n",
        "history = model.fit(celcius_q, fahrenheit_a, epochs = 5000, verbose = False)\n",
        "print(\"Training Model Finished\")"
      ],
      "execution_count": 60,
      "outputs": [
        {
          "output_type": "stream",
          "text": [
            "Starting training the model\n",
            "Training Model Finished\n"
          ],
          "name": "stdout"
        }
      ]
    },
    {
      "metadata": {
        "id": "rVM5w41bu3dQ",
        "colab_type": "text"
      },
      "cell_type": "markdown",
      "source": [
        "**Displaying Statictistics**"
      ]
    },
    {
      "metadata": {
        "id": "Q7rG8kmyuy-w",
        "colab_type": "code",
        "colab": {
          "base_uri": "https://localhost:8080/",
          "height": 300
        },
        "outputId": "9f612fa0-7c18-4513-d290-ae116fb8a114"
      },
      "cell_type": "code",
      "source": [
        "import matplotlib.pyplot as plt\n",
        "plt.xlabel(\"Epochs\")\n",
        "plt.ylabel(\"Loss\")\n",
        "plt.plot(history.history[\"loss\"])\n"
      ],
      "execution_count": 61,
      "outputs": [
        {
          "output_type": "execute_result",
          "data": {
            "text/plain": [
              "[<matplotlib.lines.Line2D at 0x7fa035ae9f28>]"
            ]
          },
          "metadata": {
            "tags": []
          },
          "execution_count": 61
        },
        {
          "output_type": "display_data",
          "data": {
            "image/png": "[encoded data removed]",
            "text/plain": [
              "<Figure size 432x288 with 1 Axes>"
            ]
          },
          "metadata": {
            "tags": []
          }
        }
      ]
    },
    {
      "metadata": {
        "id": "BkBh1WOfvnNn",
        "colab_type": "text"
      },
      "cell_type": "markdown",
      "source": [
        "**Prediction Time - The Judgement Day**\n"
      ]
    },
    {
      "metadata": {
        "id": "2u5Q9s8xvXeZ",
        "colab_type": "code",
        "colab": {
          "base_uri": "https://localhost:8080/",
          "height": 187
        },
        "outputId": "a769ef1a-106d-4b22-bbde-db953586be12"
      },
      "cell_type": "code",
      "source": [
        "cels = [16, 23,76,100, 130, 1000]\n",
        "def celcius_to_far(number):\n",
        "    return number*9/5 + 32\n",
        "fars = list(map(celcius_to_far, cels))\n",
        "print(\"Actual Value for celcius to farhenheits are \")\n",
        "print(\"Celcius \", cels)\n",
        "print(\"Fahrs \", fars)\n",
        "print(\"Predicted Values for cels - \")\n",
        "for i in range(len(cels)):\n",
        "  print(model.predict([cels[i]]))\n",
        "  "
      ],
      "execution_count": 62,
      "outputs": [
        {
          "output_type": "stream",
          "text": [
            "Actual Value for celcius to farhenheits are \n",
            "Celcius  [16, 23, 76, 100, 130, 1000]\n",
            "Fahrs  [60.8, 73.4, 168.8, 212.0, 266.0, 1832.0]\n",
            "Predicted Values for cels - \n",
            "[[60.799995]]\n",
            "[[73.399994]]\n",
            "[[168.8]]\n",
            "[[212.00002]]\n",
            "[[266.00003]]\n",
            "[[1832.0004]]\n"
          ],
          "name": "stdout"
        }
      ]
    },
    {
      "metadata": {
        "id": "BOcXU7LGxWid",
        "colab_type": "code",
        "colab": {
          "base_uri": "https://localhost:8080/",
          "height": 34
        },
        "outputId": "0d3e8ef4-7ad6-44a5-a95b-0553c92a4f37"
      },
      "cell_type": "code",
      "source": [
        "print(\"layer Variables after training: {}\".format(l0.get_weights()))"
      ],
      "execution_count": 63,
      "outputs": [
        {
          "output_type": "stream",
          "text": [
            "layer Variables after training: [array([[1.8000003]], dtype=float32), array([31.99999], dtype=float32)]\n"
          ],
          "name": "stdout"
        }
      ]
    },
    {
      "metadata": {
        "id": "nIYeqtWy0LZ2",
        "colab_type": "text"
      },
      "cell_type": "markdown",
      "source": [
        "**Hurray...** The variables of the equation are 1.8 and 31.99. And actual variables are 1.8 and 32 . So it learned it right. Well, close to right :P. I still think this is wonderfull enough. \n",
        "\n",
        "**Some important Learning from this little project**\n",
        "The actual results can vary drastically depending on your dataset, and sometimes, just increasing the amount of data is not enough if the quality of data is not good. For example -\n",
        "The original tutor used this dataset in the demo video - Lets call it dataset 1.\n",
        "\n",
        "\n",
        "```\n",
        "celcius_q = np.array([-40, -10, 0, 8, 15, 22, 38], dtype=float)\n",
        "fahrenheit_a = np.array([-40, 14, 32, 46, 59, 72, 100], dtype= float)\n",
        "```\n",
        "With this dataset even after 500 epochs the results were pretty close. \n",
        "However, i decided to choose a different dataset like this one . Lets call it dataset 2\n",
        "\n",
        "\n",
        "```\n",
        "celcius_q = np.array([-40, -20, -10, 0, 12, 19, 25, 32, 40, 49, 61, 80 ], dtype=float)\n",
        "fahrenheit_a = np.array([ -40, -4, 14, 32, 53.6, 66.2, 77, 89.6, 104, 120.2, 141.8, 176], dtype=float)\n",
        "```\n",
        "I thought i have more data points and they are also spread in large area, so maybe it should perform better. But **Surprisingly** When i trained the model on this dataset and ran for 500 epochs, the data was far away from actual value in the prediction test. So i had to increase the epochs to 1000. After that it came close to actual values. \n",
        "\n",
        "**However** After 1000 epochs, increasing epochs to say 5000 wont help the model for the dataset 1and  actually reduce the accuracy on test set. But in case of dataset 2, the accuracy is increased on increasing number of epochs to 5000. \n"
      ]
    },
    {
      "metadata": {
        "id": "M6KCPJJs0DaK",
        "colab_type": "code",
        "colab": {}
      },
      "cell_type": "code",
      "source": [
        ""
      ],
      "execution_count": 0,
      "outputs": []
    }
  ]
}